{
 "cells": [
  {
   "cell_type": "code",
   "execution_count": 1,
   "metadata": {},
   "outputs": [],
   "source": [
    "import json\n",
    "import copy\n",
    "import ast\n",
    "\n",
    "import numpy as np\n",
    "\n",
    "from pathlib import Path\n",
    "from collections import defaultdict, Counter\n",
    "from deer.eval import get_results, get_results_boundary"
   ]
  },
  {
   "cell_type": "code",
   "execution_count": 2,
   "metadata": {},
   "outputs": [],
   "source": [
    "ENTITY_TYPES = [\"date\", \"organization\", \"person\", \"geographical social political\", \"national religious political\", \"facility\", \"cardinal\", \"location\", \"work of art\", \"law\", \"event\", \"product\", \"ordinal\", \"percent\", \"time\", \"quantity\", \"money\", \"language\"]"
   ]
  },
  {
   "cell_type": "code",
   "execution_count": 3,
   "metadata": {},
   "outputs": [
    {
     "name": "stdout",
     "output_type": "stream",
     "text": [
      "Number of samples in processed test set: 1000\n"
     ]
    }
   ],
   "source": [
    "data_dir = Path(\"../data/ontonotes\")\n",
    "        \n",
    "test_file = data_dir / \"test_sample_1000.jsonl\"\n",
    "data_test = []\n",
    "with open(test_file, \"r\") as f:\n",
    "    for line in f:\n",
    "        data_test.append(json.loads(line))\n",
    "print(f\"Number of samples in processed test set: {len(data_test)}\")"
   ]
  },
  {
   "cell_type": "markdown",
   "metadata": {},
   "source": [
    "# gpt-4o-mini-2024-07-18"
   ]
  },
  {
   "cell_type": "markdown",
   "metadata": {},
   "source": [
    "## KATE"
   ]
  },
  {
   "cell_type": "code",
   "execution_count": 4,
   "metadata": {},
   "outputs": [
    {
     "name": "stdout",
     "output_type": "stream",
     "text": [
      "TP: 1011, FP: 296, FN: 372\n",
      "Precision: 77.4, Recall: 73.1, F1: 75.2\n",
      "\n"
     ]
    }
   ],
   "source": [
    "pred_path = f'../output/ontonotes/test_sample_1000/demo_8_retrieval_kate_text-embedding-3-small/gpt-4o-mini-2024-07-18/icl_json_format/results.jsonl'\n",
    "\n",
    "with open(pred_path, 'r') as f:\n",
    "    pred_data = [json.loads(line) for line in f]\n",
    "\n",
    "get_results(data_test, pred_data, ENTITY_TYPES, verbose=False)"
   ]
  },
  {
   "cell_type": "markdown",
   "metadata": {},
   "source": [
    "## DEER"
   ]
  },
  {
   "cell_type": "code",
   "execution_count": 5,
   "metadata": {},
   "outputs": [
    {
     "name": "stdout",
     "output_type": "stream",
     "text": [
      "TP: 1052, FP: 296, FN: 331\n",
      "Precision: 78.0, Recall: 76.1, F1: 77.0\n",
      "\n"
     ]
    }
   ],
   "source": [
    "pred_path = f'../output/ontonotes/test_sample_1000/demo_8_retrieval_deer_text-embedding-3-small_2_1.0_1.0_0.01_match_1.0_embed_1.0/gpt-4o-mini-2024-07-18/icl_json_format/results.jsonl'\n",
    "\n",
    "with open(pred_path, 'r') as f:\n",
    "    pred_data = [json.loads(line) for line in f]\n",
    "\n",
    "get_results(data_test, pred_data, ENTITY_TYPES, verbose=False)"
   ]
  },
  {
   "cell_type": "code",
   "execution_count": 6,
   "metadata": {},
   "outputs": [
    {
     "name": "stdout",
     "output_type": "stream",
     "text": [
      "TP: 1058, FP: 301, FN: 325\n",
      "Precision: 77.9, Recall: 76.5, F1: 77.2\n",
      "\n"
     ]
    }
   ],
   "source": [
    "pred_path = f'../output/ontonotes/test_sample_1000/demo_8_retrieval_deer_text-embedding-3-small_2_1.0_1.0_0.01_match_1.0_embed_1.0/gpt-4o-mini-2024-07-18/reflect_unseen_4_0.9_0.9/results.jsonl'\n",
    "\n",
    "with open(pred_path, 'r') as f:\n",
    "    pred_data = [json.loads(line) for line in f]\n",
    "\n",
    "get_results(data_test, pred_data, ENTITY_TYPES, verbose=False)"
   ]
  },
  {
   "cell_type": "code",
   "execution_count": 7,
   "metadata": {},
   "outputs": [
    {
     "name": "stdout",
     "output_type": "stream",
     "text": [
      "TP: 1088, FP: 313, FN: 295\n",
      "Precision: 77.7, Recall: 78.7, F1: 78.2\n",
      "\n"
     ]
    }
   ],
   "source": [
    "pred_path = f'../output/ontonotes/test_sample_1000/demo_8_retrieval_deer_text-embedding-3-small_2_1.0_1.0_0.01_match_1.0_embed_1.0/gpt-4o-mini-2024-07-18/reflect_fn_4_0.9_0.9_0.95/results.jsonl'\n",
    "\n",
    "with open(pred_path, 'r') as f:\n",
    "    pred_data = [json.loads(line) for line in f]\n",
    "\n",
    "get_results(data_test, pred_data, ENTITY_TYPES, verbose=False)"
   ]
  },
  {
   "cell_type": "code",
   "execution_count": 8,
   "metadata": {},
   "outputs": [
    {
     "name": "stdout",
     "output_type": "stream",
     "text": [
      "TP: 1092, FP: 290, FN: 291\n",
      "Precision: 79.0, Recall: 79.0, F1: 79.0\n",
      "\n"
     ]
    }
   ],
   "source": [
    "pred_path = f'../output/ontonotes/test_sample_1000/demo_8_retrieval_deer_text-embedding-3-small_2_1.0_1.0_0.01_match_1.0_embed_1.0/gpt-4o-mini-2024-07-18/reflect_boundary_4_0.9_0.9_0.95/results.jsonl'\n",
    "\n",
    "with open(pred_path, 'r') as f:\n",
    "    pred_data = [json.loads(line) for line in f]\n",
    "\n",
    "get_results_boundary(data_test, pred_data, ENTITY_TYPES, verbose=False)"
   ]
  },
  {
   "cell_type": "code",
   "execution_count": null,
   "metadata": {},
   "outputs": [],
   "source": []
  }
 ],
 "metadata": {
  "kernelspec": {
   "display_name": "deer",
   "language": "python",
   "name": "python3"
  },
  "language_info": {
   "codemirror_mode": {
    "name": "ipython",
    "version": 3
   },
   "file_extension": ".py",
   "mimetype": "text/x-python",
   "name": "python",
   "nbconvert_exporter": "python",
   "pygments_lexer": "ipython3",
   "version": "3.12.11"
  }
 },
 "nbformat": 4,
 "nbformat_minor": 2
}
