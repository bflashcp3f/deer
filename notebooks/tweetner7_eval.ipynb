{
 "cells": [
  {
   "cell_type": "code",
   "execution_count": 1,
   "metadata": {},
   "outputs": [],
   "source": [
    "import json\n",
    "import copy\n",
    "import ast\n",
    "\n",
    "import numpy as np\n",
    "\n",
    "from pathlib import Path\n",
    "from collections import defaultdict, Counter\n",
    "from deer.eval import get_results, get_results_boundary"
   ]
  },
  {
   "cell_type": "code",
   "execution_count": 2,
   "metadata": {},
   "outputs": [],
   "source": [
    "ENTITY_TYPES = [\"group\", \"creative work\", \"person\", \"event\", \"product\", \"location\", \"corporation\"]"
   ]
  },
  {
   "cell_type": "code",
   "execution_count": 3,
   "metadata": {},
   "outputs": [
    {
     "name": "stdout",
     "output_type": "stream",
     "text": [
      "Number of samples in processed test set: 576\n"
     ]
    }
   ],
   "source": [
    "data_dir = Path(\"../data/tweetner7\")\n",
    "        \n",
    "test_file = data_dir / \"test.jsonl\"\n",
    "data_test = []\n",
    "with open(test_file, \"r\") as f:\n",
    "    for line in f:\n",
    "        data_test.append(json.loads(line))\n",
    "print(f\"Number of samples in processed test set: {len(data_test)}\")"
   ]
  },
  {
   "cell_type": "markdown",
   "metadata": {},
   "source": [
    "# gpt-4o-mini-2024-07-18"
   ]
  },
  {
   "cell_type": "markdown",
   "metadata": {},
   "source": [
    "## KATE"
   ]
  },
  {
   "cell_type": "code",
   "execution_count": 4,
   "metadata": {},
   "outputs": [
    {
     "name": "stdout",
     "output_type": "stream",
     "text": [
      "TP: 1049, FP: 556, FN: 878\n",
      "Precision: 65.4, Recall: 54.4, F1: 59.4\n",
      "\n"
     ]
    }
   ],
   "source": [
    "pred_path = f'../output/tweetner7/test/demo_8_retrieval_kate_text-embedding-3-small/gpt-4o-mini-2024-07-18/icl_json_format/results.jsonl'\n",
    "\n",
    "with open(pred_path, 'r') as f:\n",
    "    pred_data = [json.loads(line) for line in f]\n",
    "\n",
    "get_results(data_test, pred_data, ENTITY_TYPES, verbose=False)"
   ]
  },
  {
   "cell_type": "markdown",
   "metadata": {},
   "source": [
    "## DEER"
   ]
  },
  {
   "cell_type": "code",
   "execution_count": 5,
   "metadata": {},
   "outputs": [
    {
     "name": "stdout",
     "output_type": "stream",
     "text": [
      "TP: 1054, FP: 504, FN: 873\n",
      "Precision: 67.7, Recall: 54.7, F1: 60.5\n",
      "\n"
     ]
    }
   ],
   "source": [
    "pred_path = f'../output/tweetner7/test/demo_8_retrieval_deer_text-embedding-3-small_2_1.0_1.0_0.01_match_1.0_embed_1.0/gpt-4o-mini-2024-07-18/icl_json_format/results.jsonl'\n",
    "\n",
    "with open(pred_path, 'r') as f:\n",
    "    pred_data = [json.loads(line) for line in f]\n",
    "\n",
    "get_results(data_test, pred_data, ENTITY_TYPES, verbose=False)"
   ]
  },
  {
   "cell_type": "code",
   "execution_count": 6,
   "metadata": {},
   "outputs": [
    {
     "name": "stdout",
     "output_type": "stream",
     "text": [
      "TP: 1075, FP: 530, FN: 852\n",
      "Precision: 67.0, Recall: 55.8, F1: 60.9\n",
      "\n"
     ]
    }
   ],
   "source": [
    "pred_path = f'../output/tweetner7/test/demo_8_retrieval_deer_text-embedding-3-small_2_1.0_1.0_0.01_match_1.0_embed_1.0/gpt-4o-mini-2024-07-18/reflect_unseen_1_0.75_0.75/results.jsonl'\n",
    "\n",
    "with open(pred_path, 'r') as f:\n",
    "    pred_data = [json.loads(line) for line in f]\n",
    "\n",
    "get_results(data_test, pred_data, ENTITY_TYPES, verbose=False)"
   ]
  },
  {
   "cell_type": "code",
   "execution_count": 7,
   "metadata": {},
   "outputs": [
    {
     "name": "stdout",
     "output_type": "stream",
     "text": [
      "TP: 1085, FP: 540, FN: 842\n",
      "Precision: 66.8, Recall: 56.3, F1: 61.1\n",
      "\n"
     ]
    }
   ],
   "source": [
    "pred_path = f'../output/tweetner7/test/demo_8_retrieval_deer_text-embedding-3-small_2_1.0_1.0_0.01_match_1.0_embed_1.0/gpt-4o-mini-2024-07-18/reflect_fn_1_0.75_0.75_0.95/results.jsonl'\n",
    "\n",
    "with open(pred_path, 'r') as f:\n",
    "    pred_data = [json.loads(line) for line in f]\n",
    "\n",
    "get_results(data_test, pred_data, ENTITY_TYPES, verbose=False)"
   ]
  },
  {
   "cell_type": "code",
   "execution_count": 8,
   "metadata": {},
   "outputs": [
    {
     "name": "stdout",
     "output_type": "stream",
     "text": [
      "TP: 1089, FP: 535, FN: 838\n",
      "Precision: 67.1, Recall: 56.5, F1: 61.3\n",
      "\n"
     ]
    }
   ],
   "source": [
    "pred_path = f'../output/tweetner7/test/demo_8_retrieval_deer_text-embedding-3-small_2_1.0_1.0_0.01_match_1.0_embed_1.0/gpt-4o-mini-2024-07-18/reflect_boundary_1_0.75_0.75_0.95/results.jsonl'\n",
    "\n",
    "with open(pred_path, 'r') as f:\n",
    "    pred_data = [json.loads(line) for line in f]\n",
    "\n",
    "get_results_boundary(data_test, pred_data, ENTITY_TYPES, verbose=False)"
   ]
  }
 ],
 "metadata": {
  "kernelspec": {
   "display_name": "deer",
   "language": "python",
   "name": "python3"
  },
  "language_info": {
   "codemirror_mode": {
    "name": "ipython",
    "version": 3
   },
   "file_extension": ".py",
   "mimetype": "text/x-python",
   "name": "python",
   "nbconvert_exporter": "python",
   "pygments_lexer": "ipython3",
   "version": "3.12.11"
  }
 },
 "nbformat": 4,
 "nbformat_minor": 2
}
