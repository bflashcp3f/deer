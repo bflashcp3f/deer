{
 "cells": [
  {
   "cell_type": "code",
   "execution_count": 1,
   "metadata": {},
   "outputs": [],
   "source": [
    "import json\n",
    "import copy\n",
    "import ast\n",
    "\n",
    "import numpy as np\n",
    "\n",
    "from pathlib import Path\n",
    "from collections import defaultdict, Counter\n",
    "from deer.eval import get_results, get_results_boundary"
   ]
  },
  {
   "cell_type": "code",
   "execution_count": 2,
   "metadata": {},
   "outputs": [],
   "source": [
    "ENTITY_TYPES = ['LOC', 'PER', 'ORG', 'MISC']"
   ]
  },
  {
   "cell_type": "code",
   "execution_count": 3,
   "metadata": {},
   "outputs": [
    {
     "name": "stdout",
     "output_type": "stream",
     "text": [
      "Number of samples in processed test set: 1000\n"
     ]
    }
   ],
   "source": [
    "data_dir = Path(\"../data/conll03\")\n",
    "        \n",
    "test_file = data_dir / \"test_sample_1000.jsonl\"\n",
    "data_test = []\n",
    "with open(test_file, \"r\") as f:\n",
    "    for line in f:\n",
    "        data_test.append(json.loads(line))\n",
    "print(f\"Number of samples in processed test set: {len(data_test)}\")"
   ]
  },
  {
   "cell_type": "markdown",
   "metadata": {},
   "source": [
    "# gpt-4o-mini-2024-07-18"
   ]
  },
  {
   "cell_type": "markdown",
   "metadata": {},
   "source": [
    "## KATE"
   ]
  },
  {
   "cell_type": "code",
   "execution_count": 4,
   "metadata": {},
   "outputs": [
    {
     "name": "stdout",
     "output_type": "stream",
     "text": [
      "TP: 1436, FP: 147, FN: 210\n",
      "Precision: 90.7, Recall: 87.2, F1: 88.9\n",
      "\n"
     ]
    }
   ],
   "source": [
    "pred_path = f'../output/conll03/test_sample_1000/demo_8_retrieval_kate_text-embedding-3-small/gpt-4o-mini-2024-07-18/icl_json_format/results.jsonl'\n",
    "\n",
    "with open(pred_path, 'r') as f:\n",
    "    pred_data = [json.loads(line) for line in f]\n",
    "\n",
    "get_results(data_test, pred_data, ENTITY_TYPES, verbose=False)"
   ]
  },
  {
   "cell_type": "markdown",
   "metadata": {},
   "source": [
    "## DEER"
   ]
  },
  {
   "cell_type": "code",
   "execution_count": 5,
   "metadata": {},
   "outputs": [
    {
     "name": "stdout",
     "output_type": "stream",
     "text": [
      "TP: 1455, FP: 143, FN: 191\n",
      "Precision: 91.1, Recall: 88.4, F1: 89.7\n",
      "\n"
     ]
    }
   ],
   "source": [
    "pred_path = f'../output/conll03/test_sample_1000/demo_8_retrieval_deer_text-embedding-3-small_2_1.0_1.0_0.01_match_0.01_embed_1.0/gpt-4o-mini-2024-07-18/icl_json_format/results.jsonl'\n",
    "\n",
    "with open(pred_path, 'r') as f:\n",
    "    pred_data = [json.loads(line) for line in f]\n",
    "\n",
    "get_results(data_test, pred_data, ENTITY_TYPES, verbose=False)"
   ]
  },
  {
   "cell_type": "code",
   "execution_count": 6,
   "metadata": {},
   "outputs": [
    {
     "name": "stdout",
     "output_type": "stream",
     "text": [
      "TP: 1471, FP: 148, FN: 175\n",
      "Precision: 90.9, Recall: 89.4, F1: 90.1\n",
      "\n"
     ]
    }
   ],
   "source": [
    "pred_path = f'../output/conll03/test_sample_1000/demo_8_retrieval_deer_text-embedding-3-small_2_1.0_1.0_0.01_match_0.01_embed_1.0/gpt-4o-mini-2024-07-18/reflect_unseen_1_0.5_0.5/results.jsonl'\n",
    "\n",
    "with open(pred_path, 'r') as f:\n",
    "    pred_data = [json.loads(line) for line in f]\n",
    "\n",
    "get_results(data_test, pred_data, ENTITY_TYPES, verbose=False)"
   ]
  },
  {
   "cell_type": "code",
   "execution_count": 7,
   "metadata": {},
   "outputs": [
    {
     "name": "stdout",
     "output_type": "stream",
     "text": [
      "TP: 1485, FP: 149, FN: 161\n",
      "Precision: 90.9, Recall: 90.2, F1: 90.5\n",
      "\n"
     ]
    }
   ],
   "source": [
    "pred_path = f'../output/conll03/test_sample_1000/demo_8_retrieval_deer_text-embedding-3-small_2_1.0_1.0_0.01_match_0.01_embed_1.0/gpt-4o-mini-2024-07-18/reflect_fn_1_0.5_0.5_0.9/results.jsonl'\n",
    "\n",
    "with open(pred_path, 'r') as f:\n",
    "    pred_data = [json.loads(line) for line in f]\n",
    "\n",
    "get_results(data_test, pred_data, ENTITY_TYPES, verbose=False)"
   ]
  },
  {
   "cell_type": "code",
   "execution_count": 8,
   "metadata": {},
   "outputs": [
    {
     "name": "stdout",
     "output_type": "stream",
     "text": [
      "TP: 1476, FP: 133, FN: 170\n",
      "Precision: 91.7, Recall: 89.7, F1: 90.7\n",
      "\n"
     ]
    }
   ],
   "source": [
    "pred_path = f'../output/conll03/test_sample_1000/demo_8_retrieval_deer_text-embedding-3-small_2_1.0_1.0_0.01_match_0.01_embed_1.0/gpt-4o-mini-2024-07-18/reflect_boundary_1_0.5_0.5_0.9/results.jsonl'\n",
    "\n",
    "with open(pred_path, 'r') as f:\n",
    "    pred_data = [json.loads(line) for line in f]\n",
    "\n",
    "get_results_boundary(data_test, pred_data, ENTITY_TYPES, verbose=False)"
   ]
  }
 ],
 "metadata": {
  "kernelspec": {
   "display_name": "deer",
   "language": "python",
   "name": "python3"
  },
  "language_info": {
   "codemirror_mode": {
    "name": "ipython",
    "version": 3
   },
   "file_extension": ".py",
   "mimetype": "text/x-python",
   "name": "python",
   "nbconvert_exporter": "python",
   "pygments_lexer": "ipython3",
   "version": "3.12.11"
  }
 },
 "nbformat": 4,
 "nbformat_minor": 2
}
