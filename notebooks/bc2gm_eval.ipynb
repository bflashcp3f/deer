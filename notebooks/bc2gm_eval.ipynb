{
 "cells": [
  {
   "cell_type": "code",
   "execution_count": 23,
   "metadata": {},
   "outputs": [],
   "source": [
    "import json\n",
    "import copy\n",
    "import ast\n",
    "\n",
    "import numpy as np\n",
    "\n",
    "from pathlib import Path\n",
    "from collections import defaultdict, Counter\n",
    "from deer.eval import get_results, get_results_boundary"
   ]
  },
  {
   "cell_type": "code",
   "execution_count": 24,
   "metadata": {},
   "outputs": [],
   "source": [
    "ENTITY_TYPES = ['GENE']"
   ]
  },
  {
   "cell_type": "code",
   "execution_count": 25,
   "metadata": {},
   "outputs": [
    {
     "name": "stdout",
     "output_type": "stream",
     "text": [
      "Number of samples in processed test set: 1000\n"
     ]
    }
   ],
   "source": [
    "data_dir = Path(\"../data/bc2gm\")\n",
    "        \n",
    "test_file = data_dir / \"test_sample_1000.jsonl\"\n",
    "data_test = []\n",
    "with open(test_file, \"r\") as f:\n",
    "    for line in f:\n",
    "        data_test.append(json.loads(line))\n",
    "print(f\"Number of samples in processed test set: {len(data_test)}\")"
   ]
  },
  {
   "cell_type": "markdown",
   "metadata": {},
   "source": [
    "# gpt-4o-mini-2024-07-18"
   ]
  },
  {
   "cell_type": "markdown",
   "metadata": {},
   "source": [
    "## KATE"
   ]
  },
  {
   "cell_type": "code",
   "execution_count": 26,
   "metadata": {},
   "outputs": [
    {
     "name": "stdout",
     "output_type": "stream",
     "text": [
      "TP: 817, FP: 491, FN: 423\n",
      "Precision: 62.5, Recall: 65.9, F1: 64.1\n",
      "\n"
     ]
    }
   ],
   "source": [
    "pred_path = f'../output/bc2gm/test_sample_1000/demo_8_retrieval_kate_text-embedding-3-small/gpt-4o-mini-2024-07-18/icl_json_format/results.jsonl'\n",
    "\n",
    "with open(pred_path, 'r') as f:\n",
    "    pred_data = [json.loads(line) for line in f]\n",
    "\n",
    "get_results(data_test, pred_data, ENTITY_TYPES, verbose=False)"
   ]
  },
  {
   "cell_type": "markdown",
   "metadata": {},
   "source": [
    "## DEER"
   ]
  },
  {
   "cell_type": "code",
   "execution_count": 27,
   "metadata": {},
   "outputs": [
    {
     "name": "stdout",
     "output_type": "stream",
     "text": [
      "TP: 827, FP: 471, FN: 413\n",
      "Precision: 63.7, Recall: 66.7, F1: 65.2\n",
      "\n"
     ]
    }
   ],
   "source": [
    "pred_path = f'../output/bc2gm/test_sample_1000/demo_8_retrieval_deer_text-embedding-3-small_2_1.0_0.5_0.01_match_1.0_embed_0.01/gpt-4o-mini-2024-07-18/icl_json_format/results.jsonl'\n",
    "\n",
    "with open(pred_path, 'r') as f:\n",
    "    pred_data = [json.loads(line) for line in f]\n",
    "\n",
    "get_results(data_test, pred_data, ENTITY_TYPES, verbose=False)"
   ]
  },
  {
   "cell_type": "code",
   "execution_count": 28,
   "metadata": {},
   "outputs": [
    {
     "name": "stdout",
     "output_type": "stream",
     "text": [
      "TP: 835, FP: 476, FN: 405\n",
      "Precision: 63.7, Recall: 67.3, F1: 65.5\n",
      "\n"
     ]
    }
   ],
   "source": [
    "pred_path = f'../output/bc2gm/test_sample_1000/demo_8_retrieval_deer_text-embedding-3-small_2_1.0_0.5_0.01_match_1.0_embed_0.01/gpt-4o-mini-2024-07-18/reflect_unseen_1_0.5_0.5/results.jsonl'\n",
    "\n",
    "with open(pred_path, 'r') as f:\n",
    "    pred_data = [json.loads(line) for line in f]\n",
    "\n",
    "get_results(data_test, pred_data, ENTITY_TYPES, verbose=False)"
   ]
  },
  {
   "cell_type": "code",
   "execution_count": 29,
   "metadata": {},
   "outputs": [
    {
     "name": "stdout",
     "output_type": "stream",
     "text": [
      "TP: 848, FP: 479, FN: 392\n",
      "Precision: 63.9, Recall: 68.4, F1: 66.1\n",
      "\n"
     ]
    }
   ],
   "source": [
    "pred_path = f'../output/bc2gm/test_sample_1000/demo_8_retrieval_deer_text-embedding-3-small_2_1.0_0.5_0.01_match_1.0_embed_0.01/gpt-4o-mini-2024-07-18/reflect_fn_1_0.5_0.5_0.9/results.jsonl'\n",
    "\n",
    "with open(pred_path, 'r') as f:\n",
    "    pred_data = [json.loads(line) for line in f]\n",
    "\n",
    "get_results(data_test, pred_data, ENTITY_TYPES, verbose=False)"
   ]
  },
  {
   "cell_type": "code",
   "execution_count": 30,
   "metadata": {},
   "outputs": [
    {
     "name": "stdout",
     "output_type": "stream",
     "text": [
      "TP: 854, FP: 455, FN: 386\n",
      "Precision: 65.2, Recall: 68.9, F1: 67.0\n",
      "\n"
     ]
    }
   ],
   "source": [
    "pred_path = f'../output/bc2gm/test_sample_1000/demo_8_retrieval_deer_text-embedding-3-small_2_1.0_0.5_0.01_match_1.0_embed_0.01/gpt-4o-mini-2024-07-18/reflect_boundary_1_0.5_0.5_0.9/results.jsonl'\n",
    "\n",
    "with open(pred_path, 'r') as f:\n",
    "    pred_data = [json.loads(line) for line in f]\n",
    "\n",
    "get_results_boundary(data_test, pred_data, ENTITY_TYPES, verbose=False)"
   ]
  }
 ],
 "metadata": {
  "kernelspec": {
   "display_name": "deer",
   "language": "python",
   "name": "python3"
  },
  "language_info": {
   "codemirror_mode": {
    "name": "ipython",
    "version": 3
   },
   "file_extension": ".py",
   "mimetype": "text/x-python",
   "name": "python",
   "nbconvert_exporter": "python",
   "pygments_lexer": "ipython3",
   "version": "3.12.11"
  }
 },
 "nbformat": 4,
 "nbformat_minor": 2
}
