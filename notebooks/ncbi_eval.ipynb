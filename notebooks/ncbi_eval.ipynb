{
 "cells": [
  {
   "cell_type": "code",
   "execution_count": 1,
   "metadata": {},
   "outputs": [],
   "source": [
    "import json\n",
    "import copy\n",
    "import ast\n",
    "\n",
    "import numpy as np\n",
    "\n",
    "from pathlib import Path\n",
    "from collections import defaultdict, Counter\n",
    "from deer.eval import get_results, get_results_boundary"
   ]
  },
  {
   "cell_type": "code",
   "execution_count": 2,
   "metadata": {},
   "outputs": [],
   "source": [
    "ENTITY_TYPES = ['Disease']"
   ]
  },
  {
   "cell_type": "code",
   "execution_count": 3,
   "metadata": {},
   "outputs": [
    {
     "name": "stdout",
     "output_type": "stream",
     "text": [
      "Number of samples in processed test set: 940\n"
     ]
    }
   ],
   "source": [
    "data_dir = Path(\"../data/ncbi\")\n",
    "        \n",
    "test_file = data_dir / \"test.jsonl\"\n",
    "data_test = []\n",
    "with open(test_file, \"r\") as f:\n",
    "    for line in f:\n",
    "        data_test.append(json.loads(line))\n",
    "print(f\"Number of samples in processed test set: {len(data_test)}\")"
   ]
  },
  {
   "cell_type": "markdown",
   "metadata": {},
   "source": [
    "# Qwen2.5-7B-Instruct-Turbo"
   ]
  },
  {
   "cell_type": "markdown",
   "metadata": {},
   "source": [
    "## KATE"
   ]
  },
  {
   "cell_type": "code",
   "execution_count": 4,
   "metadata": {},
   "outputs": [
    {
     "name": "stdout",
     "output_type": "stream",
     "text": [
      "TP: 692, FP: 420, FN: 265\n",
      "Precision: 62.2, Recall: 72.3, F1: 66.9\n",
      "\n"
     ]
    }
   ],
   "source": [
    "pred_path = f'../output/ncbi/test/demo_8_retrieval_kate_text-embedding-3-small/Qwen/Qwen2.5-7B-Instruct-Turbo/icl_json_format/results.jsonl'\n",
    "\n",
    "with open(pred_path, 'r') as f:\n",
    "    pred_data = [json.loads(line) for line in f]\n",
    "\n",
    "get_results(data_test, pred_data, ENTITY_TYPES, verbose=False)"
   ]
  },
  {
   "cell_type": "markdown",
   "metadata": {},
   "source": [
    "## DEER"
   ]
  },
  {
   "cell_type": "code",
   "execution_count": 5,
   "metadata": {},
   "outputs": [
    {
     "name": "stdout",
     "output_type": "stream",
     "text": [
      "TP: 754, FP: 395, FN: 203\n",
      "Precision: 65.6, Recall: 78.8, F1: 71.6\n",
      "\n"
     ]
    }
   ],
   "source": [
    "pred_path = f'../output/ncbi/test/demo_8_retrieval_deer_text-embedding-3-small_2_1.0_1.0_0.01_match_1.0_embed_1.0/Qwen/Qwen2.5-7B-Instruct-Turbo/icl_json_format/results.jsonl'\n",
    "\n",
    "with open(pred_path, 'r') as f:\n",
    "    pred_data = [json.loads(line) for line in f]\n",
    "\n",
    "get_results(data_test, pred_data, ENTITY_TYPES, verbose=False)"
   ]
  },
  {
   "cell_type": "markdown",
   "metadata": {},
   "source": [
    "# gpt-4o-mini-2024-07-18"
   ]
  },
  {
   "cell_type": "markdown",
   "metadata": {},
   "source": [
    "## KATE"
   ]
  },
  {
   "cell_type": "code",
   "execution_count": 6,
   "metadata": {},
   "outputs": [
    {
     "name": "stdout",
     "output_type": "stream",
     "text": [
      "TP: 694, FP: 198, FN: 263\n",
      "Precision: 77.8, Recall: 72.5, F1: 75.1\n",
      "\n"
     ]
    }
   ],
   "source": [
    "pred_path = f'../output/ncbi/test/demo_8_retrieval_kate_text-embedding-3-small/gpt-4o-mini-2024-07-18/icl_json_format/results.jsonl'\n",
    "\n",
    "with open(pred_path, 'r') as f:\n",
    "    pred_data = [json.loads(line) for line in f]\n",
    "\n",
    "get_results(data_test, pred_data, ENTITY_TYPES, verbose=False)"
   ]
  },
  {
   "cell_type": "markdown",
   "metadata": {},
   "source": [
    "## DEER"
   ]
  },
  {
   "cell_type": "code",
   "execution_count": 7,
   "metadata": {},
   "outputs": [
    {
     "name": "stdout",
     "output_type": "stream",
     "text": [
      "TP: 729, FP: 201, FN: 228\n",
      "Precision: 78.4, Recall: 76.2, F1: 77.3\n",
      "\n"
     ]
    }
   ],
   "source": [
    "pred_path = f'../output/ncbi/test/demo_8_retrieval_deer_text-embedding-3-small_2_1.0_1.0_0.01_match_1.0_embed_1.0/gpt-4o-mini-2024-07-18/icl_json_format/results.jsonl'\n",
    "\n",
    "with open(pred_path, 'r') as f:\n",
    "    pred_data = [json.loads(line) for line in f]\n",
    "\n",
    "get_results(data_test, pred_data, ENTITY_TYPES, verbose=False)"
   ]
  },
  {
   "cell_type": "code",
   "execution_count": 8,
   "metadata": {},
   "outputs": [
    {
     "name": "stdout",
     "output_type": "stream",
     "text": [
      "TP: 738, FP: 205, FN: 219\n",
      "Precision: 78.3, Recall: 77.1, F1: 77.7\n",
      "\n"
     ]
    }
   ],
   "source": [
    "pred_path = f'../output/ncbi/test/demo_8_retrieval_deer_text-embedding-3-small_2_1.0_1.0_0.01_match_1.0_embed_1.0/gpt-4o-mini-2024-07-18/reflect_unseen_1_0.75_0.75/results.jsonl'\n",
    "\n",
    "with open(pred_path, 'r') as f:\n",
    "    pred_data = [json.loads(line) for line in f]\n",
    "\n",
    "get_results(data_test, pred_data, ENTITY_TYPES, verbose=False)"
   ]
  },
  {
   "cell_type": "code",
   "execution_count": 9,
   "metadata": {},
   "outputs": [
    {
     "name": "stdout",
     "output_type": "stream",
     "text": [
      "TP: 754, FP: 212, FN: 203\n",
      "Precision: 78.1, Recall: 78.8, F1: 78.4\n",
      "\n"
     ]
    }
   ],
   "source": [
    "pred_path = f'../output/ncbi/test/demo_8_retrieval_deer_text-embedding-3-small_2_1.0_1.0_0.01_match_1.0_embed_1.0/gpt-4o-mini-2024-07-18/reflect_fn_1_0.75_0.75_0.95/results.jsonl'\n",
    "\n",
    "with open(pred_path, 'r') as f:\n",
    "    pred_data = [json.loads(line) for line in f]\n",
    "\n",
    "get_results(data_test, pred_data, ENTITY_TYPES, verbose=False)"
   ]
  },
  {
   "cell_type": "code",
   "execution_count": 10,
   "metadata": {},
   "outputs": [
    {
     "name": "stdout",
     "output_type": "stream",
     "text": [
      "TP: 753, FP: 191, FN: 204\n",
      "Precision: 79.8, Recall: 78.7, F1: 79.2\n",
      "\n"
     ]
    }
   ],
   "source": [
    "pred_path = f'../output/ncbi/test/demo_8_retrieval_deer_text-embedding-3-small_2_1.0_1.0_0.01_match_1.0_embed_1.0/gpt-4o-mini-2024-07-18/reflect_boundary_1_0.75_0.75_0.95/results.jsonl'\n",
    "\n",
    "with open(pred_path, 'r') as f:\n",
    "    pred_data = [json.loads(line) for line in f]\n",
    "\n",
    "get_results_boundary(data_test, pred_data, ENTITY_TYPES, verbose=False)"
   ]
  },
  {
   "cell_type": "markdown",
   "metadata": {},
   "source": [
    "# gpt-4o-2024-08-06"
   ]
  },
  {
   "cell_type": "markdown",
   "metadata": {},
   "source": [
    "## KATE"
   ]
  },
  {
   "cell_type": "code",
   "execution_count": null,
   "metadata": {},
   "outputs": [
    {
     "name": "stdout",
     "output_type": "stream",
     "text": [
      "TP: 740, FP: 155, FN: 217\n",
      "Precision: 82.7, Recall: 77.3, F1: 79.9\n",
      "\n"
     ]
    }
   ],
   "source": [
    "pred_path = f'../output/ncbi/test/demo_8_retrieval_kate_text-embedding-3-small/gpt-4o-2024-08-06/icl_json_format/results.jsonl'\n",
    "\n",
    "with open(pred_path, 'r') as f:\n",
    "    pred_data = [json.loads(line) for line in f]\n",
    "\n",
    "get_results(data_test, pred_data, ENTITY_TYPES, verbose=False)"
   ]
  },
  {
   "cell_type": "markdown",
   "metadata": {},
   "source": [
    "## DEER"
   ]
  },
  {
   "cell_type": "code",
   "execution_count": null,
   "metadata": {},
   "outputs": [
    {
     "name": "stdout",
     "output_type": "stream",
     "text": [
      "TP: 792, FP: 174, FN: 165\n",
      "Precision: 82.0, Recall: 82.8, F1: 82.4\n",
      "\n"
     ]
    }
   ],
   "source": [
    "pred_path = f'../output/ncbi/test/demo_8_retrieval_deer_text-embedding-3-small_2_1.0_1.0_0.01_match_1.0_embed_1.0/gpt-4o-2024-08-06/icl_json_format/results.jsonl'\n",
    "\n",
    "with open(pred_path, 'r') as f:\n",
    "    pred_data = [json.loads(line) for line in f]\n",
    "\n",
    "get_results(data_test, pred_data, ENTITY_TYPES, verbose=False)"
   ]
  },
  {
   "cell_type": "code",
   "execution_count": null,
   "metadata": {},
   "outputs": [
    {
     "name": "stdout",
     "output_type": "stream",
     "text": [
      "TP: 802, FP: 175, FN: 155\n",
      "Precision: 82.1, Recall: 83.8, F1: 82.9\n",
      "\n"
     ]
    }
   ],
   "source": [
    "pred_path = f'../output/ncbi/test/demo_8_retrieval_deer_text-embedding-3-small_2_1.0_1.0_0.01_match_1.0_embed_1.0/gpt-4o-2024-08-06/reflect_unseen_1_0.75_0.75/results.jsonl'\n",
    "\n",
    "with open(pred_path, 'r') as f:\n",
    "    pred_data = [json.loads(line) for line in f]\n",
    "\n",
    "get_results(data_test, pred_data, ENTITY_TYPES, verbose=False)"
   ]
  },
  {
   "cell_type": "code",
   "execution_count": null,
   "metadata": {},
   "outputs": [
    {
     "name": "stdout",
     "output_type": "stream",
     "text": [
      "TP: 806, FP: 182, FN: 151\n",
      "Precision: 81.6, Recall: 84.2, F1: 82.9\n",
      "\n"
     ]
    }
   ],
   "source": [
    "pred_path = f'../output/ncbi/test/demo_8_retrieval_deer_text-embedding-3-small_2_1.0_1.0_0.01_match_1.0_embed_1.0/gpt-4o-2024-08-06/reflect_fn_1_0.75_0.75_0.95/results.jsonl'\n",
    "\n",
    "with open(pred_path, 'r') as f:\n",
    "    pred_data = [json.loads(line) for line in f]\n",
    "\n",
    "get_results(data_test, pred_data, ENTITY_TYPES, verbose=False)"
   ]
  },
  {
   "cell_type": "code",
   "execution_count": 48,
   "metadata": {},
   "outputs": [
    {
     "name": "stdout",
     "output_type": "stream",
     "text": [
      "TP: 810, FP: 153, FN: 147\n",
      "Precision: 84.1, Recall: 84.6, F1: 84.4\n",
      "\n"
     ]
    }
   ],
   "source": [
    "pred_path = f'../output/ncbi/test/demo_8_retrieval_deer_text-embedding-3-small_2_1.0_1.0_0.01_match_1.0_embed_1.0/gpt-4o-2024-08-06/reflect_boundary_1_0.75_0.75_0.95/results.jsonl'\n",
    "\n",
    "with open(pred_path, 'r') as f:\n",
    "    pred_data = [json.loads(line) for line in f]\n",
    "\n",
    "get_results_boundary(data_test, pred_data, ENTITY_TYPES, verbose=False)"
   ]
  },
  {
   "cell_type": "code",
   "execution_count": null,
   "metadata": {},
   "outputs": [],
   "source": []
  }
 ],
 "metadata": {
  "kernelspec": {
   "display_name": "deer",
   "language": "python",
   "name": "python3"
  },
  "language_info": {
   "codemirror_mode": {
    "name": "ipython",
    "version": 3
   },
   "file_extension": ".py",
   "mimetype": "text/x-python",
   "name": "python",
   "nbconvert_exporter": "python",
   "pygments_lexer": "ipython3",
   "version": "3.12.11"
  }
 },
 "nbformat": 4,
 "nbformat_minor": 2
}
